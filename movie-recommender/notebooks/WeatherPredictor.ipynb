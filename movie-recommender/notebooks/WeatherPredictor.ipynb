{
  "nbformat": 4,
  "nbformat_minor": 0,
  "metadata": {
    "colab": {
      "provenance": [],
      "mount_file_id": "18oA8ek2vmJc6kkDZI2tiJjw0CYxbNSe2",
      "authorship_tag": "ABX9TyNJ3bWycVjNo8kct3BerhEZ",
      "include_colab_link": true
    },
    "kernelspec": {
      "name": "python3",
      "display_name": "Python 3"
    },
    "language_info": {
      "name": "python"
    }
  },
  "cells": [
    {
      "cell_type": "markdown",
      "metadata": {
        "id": "view-in-github",
        "colab_type": "text"
      },
      "source": [
        "<a href=\"https://colab.research.google.com/github/ArthBachhuka123/ML-Projects/blob/main/WeatherPredictor.ipynb\" target=\"_parent\"><img src=\"https://colab.research.google.com/assets/colab-badge.svg\" alt=\"Open In Colab\"/></a>"
      ]
    },
    {
      "cell_type": "code",
      "execution_count": 140,
      "metadata": {
        "id": "4BTYjo-4Iyj-"
      },
      "outputs": [],
      "source": [
        "import pandas as pd\n",
        "import numpy as np\n",
        "import matplotlib.pyplot as plt\n",
        "import seaborn as sns"
      ]
    },
    {
      "cell_type": "code",
      "source": [
        "global_data = pd.read_csv(\"/content/drive/MyDrive/files/weather_data.csv\")"
      ],
      "metadata": {
        "id": "AurfOjNEJK4O"
      },
      "execution_count": 162,
      "outputs": []
    },
    {
      "cell_type": "code",
      "source": [
        "global_data.sample(5)"
      ],
      "metadata": {
        "colab": {
          "base_uri": "https://localhost:8080/",
          "height": 313
        },
        "id": "XW3m5NArJQhl",
        "outputId": "cc2fc377-54b8-4969-de3e-934cd49c5367"
      },
      "execution_count": 163,
      "outputs": [
        {
          "output_type": "execute_result",
          "data": {
            "text/plain": [
              "              dt  LandAverageTemperature  LandAverageTemperatureUncertainty  \\\n",
              "2960  1996-09-01                  12.294                              0.053   \n",
              "1064  1838-09-01                  11.106                              0.889   \n",
              "837   1819-10-01                   9.312                              1.223   \n",
              "172   1764-05-01                  11.175                              4.550   \n",
              "778   1814-11-01                   6.739                              3.428   \n",
              "\n",
              "      LandMaxTemperature  LandMaxTemperatureUncertainty  LandMinTemperature  \\\n",
              "2960              17.974                          0.116               6.711   \n",
              "1064                 NaN                            NaN                 NaN   \n",
              "837                  NaN                            NaN                 NaN   \n",
              "172                  NaN                            NaN                 NaN   \n",
              "778                  NaN                            NaN                 NaN   \n",
              "\n",
              "      LandMinTemperatureUncertainty  LandAndOceanAverageTemperature  \\\n",
              "2960                           0.17                          16.444   \n",
              "1064                            NaN                             NaN   \n",
              "837                             NaN                             NaN   \n",
              "172                             NaN                             NaN   \n",
              "778                             NaN                             NaN   \n",
              "\n",
              "      LandAndOceanAverageTemperatureUncertainty  \n",
              "2960                                      0.056  \n",
              "1064                                        NaN  \n",
              "837                                         NaN  \n",
              "172                                         NaN  \n",
              "778                                         NaN  "
            ],
            "text/html": [
              "\n",
              "  <div id=\"df-59e6b6f9-1a92-48bf-9a78-5d3bb117ec5d\" class=\"colab-df-container\">\n",
              "    <div>\n",
              "<style scoped>\n",
              "    .dataframe tbody tr th:only-of-type {\n",
              "        vertical-align: middle;\n",
              "    }\n",
              "\n",
              "    .dataframe tbody tr th {\n",
              "        vertical-align: top;\n",
              "    }\n",
              "\n",
              "    .dataframe thead th {\n",
              "        text-align: right;\n",
              "    }\n",
              "</style>\n",
              "<table border=\"1\" class=\"dataframe\">\n",
              "  <thead>\n",
              "    <tr style=\"text-align: right;\">\n",
              "      <th></th>\n",
              "      <th>dt</th>\n",
              "      <th>LandAverageTemperature</th>\n",
              "      <th>LandAverageTemperatureUncertainty</th>\n",
              "      <th>LandMaxTemperature</th>\n",
              "      <th>LandMaxTemperatureUncertainty</th>\n",
              "      <th>LandMinTemperature</th>\n",
              "      <th>LandMinTemperatureUncertainty</th>\n",
              "      <th>LandAndOceanAverageTemperature</th>\n",
              "      <th>LandAndOceanAverageTemperatureUncertainty</th>\n",
              "    </tr>\n",
              "  </thead>\n",
              "  <tbody>\n",
              "    <tr>\n",
              "      <th>2960</th>\n",
              "      <td>1996-09-01</td>\n",
              "      <td>12.294</td>\n",
              "      <td>0.053</td>\n",
              "      <td>17.974</td>\n",
              "      <td>0.116</td>\n",
              "      <td>6.711</td>\n",
              "      <td>0.17</td>\n",
              "      <td>16.444</td>\n",
              "      <td>0.056</td>\n",
              "    </tr>\n",
              "    <tr>\n",
              "      <th>1064</th>\n",
              "      <td>1838-09-01</td>\n",
              "      <td>11.106</td>\n",
              "      <td>0.889</td>\n",
              "      <td>NaN</td>\n",
              "      <td>NaN</td>\n",
              "      <td>NaN</td>\n",
              "      <td>NaN</td>\n",
              "      <td>NaN</td>\n",
              "      <td>NaN</td>\n",
              "    </tr>\n",
              "    <tr>\n",
              "      <th>837</th>\n",
              "      <td>1819-10-01</td>\n",
              "      <td>9.312</td>\n",
              "      <td>1.223</td>\n",
              "      <td>NaN</td>\n",
              "      <td>NaN</td>\n",
              "      <td>NaN</td>\n",
              "      <td>NaN</td>\n",
              "      <td>NaN</td>\n",
              "      <td>NaN</td>\n",
              "    </tr>\n",
              "    <tr>\n",
              "      <th>172</th>\n",
              "      <td>1764-05-01</td>\n",
              "      <td>11.175</td>\n",
              "      <td>4.550</td>\n",
              "      <td>NaN</td>\n",
              "      <td>NaN</td>\n",
              "      <td>NaN</td>\n",
              "      <td>NaN</td>\n",
              "      <td>NaN</td>\n",
              "      <td>NaN</td>\n",
              "    </tr>\n",
              "    <tr>\n",
              "      <th>778</th>\n",
              "      <td>1814-11-01</td>\n",
              "      <td>6.739</td>\n",
              "      <td>3.428</td>\n",
              "      <td>NaN</td>\n",
              "      <td>NaN</td>\n",
              "      <td>NaN</td>\n",
              "      <td>NaN</td>\n",
              "      <td>NaN</td>\n",
              "      <td>NaN</td>\n",
              "    </tr>\n",
              "  </tbody>\n",
              "</table>\n",
              "</div>\n",
              "    <div class=\"colab-df-buttons\">\n",
              "\n",
              "  <div class=\"colab-df-container\">\n",
              "    <button class=\"colab-df-convert\" onclick=\"convertToInteractive('df-59e6b6f9-1a92-48bf-9a78-5d3bb117ec5d')\"\n",
              "            title=\"Convert this dataframe to an interactive table.\"\n",
              "            style=\"display:none;\">\n",
              "\n",
              "  <svg xmlns=\"http://www.w3.org/2000/svg\" height=\"24px\" viewBox=\"0 -960 960 960\">\n",
              "    <path d=\"M120-120v-720h720v720H120Zm60-500h600v-160H180v160Zm220 220h160v-160H400v160Zm0 220h160v-160H400v160ZM180-400h160v-160H180v160Zm440 0h160v-160H620v160ZM180-180h160v-160H180v160Zm440 0h160v-160H620v160Z\"/>\n",
              "  </svg>\n",
              "    </button>\n",
              "\n",
              "  <style>\n",
              "    .colab-df-container {\n",
              "      display:flex;\n",
              "      gap: 12px;\n",
              "    }\n",
              "\n",
              "    .colab-df-convert {\n",
              "      background-color: #E8F0FE;\n",
              "      border: none;\n",
              "      border-radius: 50%;\n",
              "      cursor: pointer;\n",
              "      display: none;\n",
              "      fill: #1967D2;\n",
              "      height: 32px;\n",
              "      padding: 0 0 0 0;\n",
              "      width: 32px;\n",
              "    }\n",
              "\n",
              "    .colab-df-convert:hover {\n",
              "      background-color: #E2EBFA;\n",
              "      box-shadow: 0px 1px 2px rgba(60, 64, 67, 0.3), 0px 1px 3px 1px rgba(60, 64, 67, 0.15);\n",
              "      fill: #174EA6;\n",
              "    }\n",
              "\n",
              "    .colab-df-buttons div {\n",
              "      margin-bottom: 4px;\n",
              "    }\n",
              "\n",
              "    [theme=dark] .colab-df-convert {\n",
              "      background-color: #3B4455;\n",
              "      fill: #D2E3FC;\n",
              "    }\n",
              "\n",
              "    [theme=dark] .colab-df-convert:hover {\n",
              "      background-color: #434B5C;\n",
              "      box-shadow: 0px 1px 3px 1px rgba(0, 0, 0, 0.15);\n",
              "      filter: drop-shadow(0px 1px 2px rgba(0, 0, 0, 0.3));\n",
              "      fill: #FFFFFF;\n",
              "    }\n",
              "  </style>\n",
              "\n",
              "    <script>\n",
              "      const buttonEl =\n",
              "        document.querySelector('#df-59e6b6f9-1a92-48bf-9a78-5d3bb117ec5d button.colab-df-convert');\n",
              "      buttonEl.style.display =\n",
              "        google.colab.kernel.accessAllowed ? 'block' : 'none';\n",
              "\n",
              "      async function convertToInteractive(key) {\n",
              "        const element = document.querySelector('#df-59e6b6f9-1a92-48bf-9a78-5d3bb117ec5d');\n",
              "        const dataTable =\n",
              "          await google.colab.kernel.invokeFunction('convertToInteractive',\n",
              "                                                    [key], {});\n",
              "        if (!dataTable) return;\n",
              "\n",
              "        const docLinkHtml = 'Like what you see? Visit the ' +\n",
              "          '<a target=\"_blank\" href=https://colab.research.google.com/notebooks/data_table.ipynb>data table notebook</a>'\n",
              "          + ' to learn more about interactive tables.';\n",
              "        element.innerHTML = '';\n",
              "        dataTable['output_type'] = 'display_data';\n",
              "        await google.colab.output.renderOutput(dataTable, element);\n",
              "        const docLink = document.createElement('div');\n",
              "        docLink.innerHTML = docLinkHtml;\n",
              "        element.appendChild(docLink);\n",
              "      }\n",
              "    </script>\n",
              "  </div>\n",
              "\n",
              "\n",
              "    <div id=\"df-a1ceec83-b37b-42f6-af4d-d38e314859eb\">\n",
              "      <button class=\"colab-df-quickchart\" onclick=\"quickchart('df-a1ceec83-b37b-42f6-af4d-d38e314859eb')\"\n",
              "                title=\"Suggest charts\"\n",
              "                style=\"display:none;\">\n",
              "\n",
              "<svg xmlns=\"http://www.w3.org/2000/svg\" height=\"24px\"viewBox=\"0 0 24 24\"\n",
              "     width=\"24px\">\n",
              "    <g>\n",
              "        <path d=\"M19 3H5c-1.1 0-2 .9-2 2v14c0 1.1.9 2 2 2h14c1.1 0 2-.9 2-2V5c0-1.1-.9-2-2-2zM9 17H7v-7h2v7zm4 0h-2V7h2v10zm4 0h-2v-4h2v4z\"/>\n",
              "    </g>\n",
              "</svg>\n",
              "      </button>\n",
              "\n",
              "<style>\n",
              "  .colab-df-quickchart {\n",
              "      --bg-color: #E8F0FE;\n",
              "      --fill-color: #1967D2;\n",
              "      --hover-bg-color: #E2EBFA;\n",
              "      --hover-fill-color: #174EA6;\n",
              "      --disabled-fill-color: #AAA;\n",
              "      --disabled-bg-color: #DDD;\n",
              "  }\n",
              "\n",
              "  [theme=dark] .colab-df-quickchart {\n",
              "      --bg-color: #3B4455;\n",
              "      --fill-color: #D2E3FC;\n",
              "      --hover-bg-color: #434B5C;\n",
              "      --hover-fill-color: #FFFFFF;\n",
              "      --disabled-bg-color: #3B4455;\n",
              "      --disabled-fill-color: #666;\n",
              "  }\n",
              "\n",
              "  .colab-df-quickchart {\n",
              "    background-color: var(--bg-color);\n",
              "    border: none;\n",
              "    border-radius: 50%;\n",
              "    cursor: pointer;\n",
              "    display: none;\n",
              "    fill: var(--fill-color);\n",
              "    height: 32px;\n",
              "    padding: 0;\n",
              "    width: 32px;\n",
              "  }\n",
              "\n",
              "  .colab-df-quickchart:hover {\n",
              "    background-color: var(--hover-bg-color);\n",
              "    box-shadow: 0 1px 2px rgba(60, 64, 67, 0.3), 0 1px 3px 1px rgba(60, 64, 67, 0.15);\n",
              "    fill: var(--button-hover-fill-color);\n",
              "  }\n",
              "\n",
              "  .colab-df-quickchart-complete:disabled,\n",
              "  .colab-df-quickchart-complete:disabled:hover {\n",
              "    background-color: var(--disabled-bg-color);\n",
              "    fill: var(--disabled-fill-color);\n",
              "    box-shadow: none;\n",
              "  }\n",
              "\n",
              "  .colab-df-spinner {\n",
              "    border: 2px solid var(--fill-color);\n",
              "    border-color: transparent;\n",
              "    border-bottom-color: var(--fill-color);\n",
              "    animation:\n",
              "      spin 1s steps(1) infinite;\n",
              "  }\n",
              "\n",
              "  @keyframes spin {\n",
              "    0% {\n",
              "      border-color: transparent;\n",
              "      border-bottom-color: var(--fill-color);\n",
              "      border-left-color: var(--fill-color);\n",
              "    }\n",
              "    20% {\n",
              "      border-color: transparent;\n",
              "      border-left-color: var(--fill-color);\n",
              "      border-top-color: var(--fill-color);\n",
              "    }\n",
              "    30% {\n",
              "      border-color: transparent;\n",
              "      border-left-color: var(--fill-color);\n",
              "      border-top-color: var(--fill-color);\n",
              "      border-right-color: var(--fill-color);\n",
              "    }\n",
              "    40% {\n",
              "      border-color: transparent;\n",
              "      border-right-color: var(--fill-color);\n",
              "      border-top-color: var(--fill-color);\n",
              "    }\n",
              "    60% {\n",
              "      border-color: transparent;\n",
              "      border-right-color: var(--fill-color);\n",
              "    }\n",
              "    80% {\n",
              "      border-color: transparent;\n",
              "      border-right-color: var(--fill-color);\n",
              "      border-bottom-color: var(--fill-color);\n",
              "    }\n",
              "    90% {\n",
              "      border-color: transparent;\n",
              "      border-bottom-color: var(--fill-color);\n",
              "    }\n",
              "  }\n",
              "</style>\n",
              "\n",
              "      <script>\n",
              "        async function quickchart(key) {\n",
              "          const quickchartButtonEl =\n",
              "            document.querySelector('#' + key + ' button');\n",
              "          quickchartButtonEl.disabled = true;  // To prevent multiple clicks.\n",
              "          quickchartButtonEl.classList.add('colab-df-spinner');\n",
              "          try {\n",
              "            const charts = await google.colab.kernel.invokeFunction(\n",
              "                'suggestCharts', [key], {});\n",
              "          } catch (error) {\n",
              "            console.error('Error during call to suggestCharts:', error);\n",
              "          }\n",
              "          quickchartButtonEl.classList.remove('colab-df-spinner');\n",
              "          quickchartButtonEl.classList.add('colab-df-quickchart-complete');\n",
              "        }\n",
              "        (() => {\n",
              "          let quickchartButtonEl =\n",
              "            document.querySelector('#df-a1ceec83-b37b-42f6-af4d-d38e314859eb button');\n",
              "          quickchartButtonEl.style.display =\n",
              "            google.colab.kernel.accessAllowed ? 'block' : 'none';\n",
              "        })();\n",
              "      </script>\n",
              "    </div>\n",
              "\n",
              "    </div>\n",
              "  </div>\n"
            ],
            "application/vnd.google.colaboratory.intrinsic+json": {
              "type": "dataframe",
              "repr_error": "0"
            }
          },
          "metadata": {},
          "execution_count": 163
        }
      ]
    },
    {
      "cell_type": "code",
      "source": [
        "print(global_data.shape)\n",
        "print(global_data.columns)"
      ],
      "metadata": {
        "colab": {
          "base_uri": "https://localhost:8080/"
        },
        "id": "AcfimeBSJS4h",
        "outputId": "c837d0ab-342f-4320-efdb-fecdbada1f22"
      },
      "execution_count": 164,
      "outputs": [
        {
          "output_type": "stream",
          "name": "stdout",
          "text": [
            "(3192, 9)\n",
            "Index(['dt', 'LandAverageTemperature', 'LandAverageTemperatureUncertainty',\n",
            "       'LandMaxTemperature', 'LandMaxTemperatureUncertainty',\n",
            "       'LandMinTemperature', 'LandMinTemperatureUncertainty',\n",
            "       'LandAndOceanAverageTemperature',\n",
            "       'LandAndOceanAverageTemperatureUncertainty'],\n",
            "      dtype='object')\n"
          ]
        }
      ]
    },
    {
      "cell_type": "code",
      "source": [
        "Uncertainty_cols = []\n",
        "for cols in global_data.columns:\n",
        "  if \"Uncertainty\" in cols:\n",
        "    Uncertainty_cols.append(cols)\n",
        "def clean_data(global_data):\n",
        "  global_data = global_data.drop(columns=Uncertainty_cols,axis=1)\n",
        "  df = global_data.copy()\n",
        "  df[\"dt\"] = pd.to_datetime(df[\"dt\"])\n",
        "  df[\"Year\"] = df[\"dt\"].dt.year\n",
        "  df[\"Month\"] = df[\"dt\"].dt.month\n",
        "  df[\"Day\"] = df[\"dt\"].dt.day\n",
        "  df.drop(columns=[\"dt\"],inplace=True)\n",
        "  df = df.set_index([\"Year\"])\n",
        "  return df\n",
        "Uncertainty_cols\n"
      ],
      "metadata": {
        "id": "QsLka0vyJcHv",
        "colab": {
          "base_uri": "https://localhost:8080/"
        },
        "outputId": "09497468-ebe2-4ed4-a10f-8a55e2f923c7"
      },
      "execution_count": 165,
      "outputs": [
        {
          "output_type": "execute_result",
          "data": {
            "text/plain": [
              "['LandAverageTemperatureUncertainty',\n",
              " 'LandMaxTemperatureUncertainty',\n",
              " 'LandMinTemperatureUncertainty',\n",
              " 'LandAndOceanAverageTemperatureUncertainty']"
            ]
          },
          "metadata": {},
          "execution_count": 165
        }
      ]
    },
    {
      "cell_type": "code",
      "source": [
        "global_data = clean_data(global_data)"
      ],
      "metadata": {
        "id": "dBbWeE_O-nQ9"
      },
      "execution_count": 166,
      "outputs": []
    },
    {
      "cell_type": "code",
      "source": [
        "global_data.isnull().sum()"
      ],
      "metadata": {
        "colab": {
          "base_uri": "https://localhost:8080/",
          "height": 272
        },
        "id": "V1qIVkx-_V-5",
        "outputId": "72e5ecc4-e10a-4c25-8fe9-0bc66b094b37"
      },
      "execution_count": 167,
      "outputs": [
        {
          "output_type": "execute_result",
          "data": {
            "text/plain": [
              "LandAverageTemperature              12\n",
              "LandMaxTemperature                1200\n",
              "LandMinTemperature                1200\n",
              "LandAndOceanAverageTemperature    1200\n",
              "Month                                0\n",
              "Day                                  0\n",
              "dtype: int64"
            ],
            "text/html": [
              "<div>\n",
              "<style scoped>\n",
              "    .dataframe tbody tr th:only-of-type {\n",
              "        vertical-align: middle;\n",
              "    }\n",
              "\n",
              "    .dataframe tbody tr th {\n",
              "        vertical-align: top;\n",
              "    }\n",
              "\n",
              "    .dataframe thead th {\n",
              "        text-align: right;\n",
              "    }\n",
              "</style>\n",
              "<table border=\"1\" class=\"dataframe\">\n",
              "  <thead>\n",
              "    <tr style=\"text-align: right;\">\n",
              "      <th></th>\n",
              "      <th>0</th>\n",
              "    </tr>\n",
              "  </thead>\n",
              "  <tbody>\n",
              "    <tr>\n",
              "      <th>LandAverageTemperature</th>\n",
              "      <td>12</td>\n",
              "    </tr>\n",
              "    <tr>\n",
              "      <th>LandMaxTemperature</th>\n",
              "      <td>1200</td>\n",
              "    </tr>\n",
              "    <tr>\n",
              "      <th>LandMinTemperature</th>\n",
              "      <td>1200</td>\n",
              "    </tr>\n",
              "    <tr>\n",
              "      <th>LandAndOceanAverageTemperature</th>\n",
              "      <td>1200</td>\n",
              "    </tr>\n",
              "    <tr>\n",
              "      <th>Month</th>\n",
              "      <td>0</td>\n",
              "    </tr>\n",
              "    <tr>\n",
              "      <th>Day</th>\n",
              "      <td>0</td>\n",
              "    </tr>\n",
              "  </tbody>\n",
              "</table>\n",
              "</div><br><label><b>dtype:</b> int64</label>"
            ]
          },
          "metadata": {},
          "execution_count": 167
        }
      ]
    },
    {
      "cell_type": "code",
      "source": [
        "corrMatrix = global_data.corr()\n",
        "sns.heatmap(corrMatrix, annot=True)\n",
        "plt.show()"
      ],
      "metadata": {
        "colab": {
          "base_uri": "https://localhost:8080/",
          "height": 672
        },
        "id": "hvNszqxSDwtx",
        "outputId": "6449b8e8-15be-4ab0-c06f-508dfad3d87a"
      },
      "execution_count": 168,
      "outputs": [
        {
          "output_type": "display_data",
          "data": {
            "text/plain": [
              "<Figure size 640x480 with 2 Axes>"
            ],
            "image/png": "[encoded data removed]"
          },
          "metadata": {}
        }
      ]
    },
    {
      "cell_type": "code",
      "source": [
        "# global_data[\"LandAndOceanAverageTemperature\"].dropna(inplace=True)\n",
        "# global_data.isnull().sum()\n",
        "global_data = global_data.dropna(subset=[\"LandAndOceanAverageTemperature\"])\n",
        "global_data[\"LandAndOceanAverageTemperature\"]"
      ],
      "metadata": {
        "colab": {
          "base_uri": "https://localhost:8080/",
          "height": 489
        },
        "id": "S5cQU_Y1LoQW",
        "outputId": "f7008f4a-ccf5-4b4c-ee4d-eb47a19c9c62"
      },
      "execution_count": 169,
      "outputs": [
        {
          "output_type": "execute_result",
          "data": {
            "text/plain": [
              "Year\n",
              "1850    12.833\n",
              "1850    13.588\n",
              "1850    14.043\n",
              "1850    14.667\n",
              "1850    15.507\n",
              "         ...  \n",
              "2015    17.589\n",
              "2015    17.049\n",
              "2015    16.290\n",
              "2015    15.252\n",
              "2015    14.774\n",
              "Name: LandAndOceanAverageTemperature, Length: 1992, dtype: float64"
            ],
            "text/html": [
              "<div>\n",
              "<style scoped>\n",
              "    .dataframe tbody tr th:only-of-type {\n",
              "        vertical-align: middle;\n",
              "    }\n",
              "\n",
              "    .dataframe tbody tr th {\n",
              "        vertical-align: top;\n",
              "    }\n",
              "\n",
              "    .dataframe thead th {\n",
              "        text-align: right;\n",
              "    }\n",
              "</style>\n",
              "<table border=\"1\" class=\"dataframe\">\n",
              "  <thead>\n",
              "    <tr style=\"text-align: right;\">\n",
              "      <th></th>\n",
              "      <th>LandAndOceanAverageTemperature</th>\n",
              "    </tr>\n",
              "    <tr>\n",
              "      <th>Year</th>\n",
              "      <th></th>\n",
              "    </tr>\n",
              "  </thead>\n",
              "  <tbody>\n",
              "    <tr>\n",
              "      <th>1850</th>\n",
              "      <td>12.833</td>\n",
              "    </tr>\n",
              "    <tr>\n",
              "      <th>1850</th>\n",
              "      <td>13.588</td>\n",
              "    </tr>\n",
              "    <tr>\n",
              "      <th>1850</th>\n",
              "      <td>14.043</td>\n",
              "    </tr>\n",
              "    <tr>\n",
              "      <th>1850</th>\n",
              "      <td>14.667</td>\n",
              "    </tr>\n",
              "    <tr>\n",
              "      <th>1850</th>\n",
              "      <td>15.507</td>\n",
              "    </tr>\n",
              "    <tr>\n",
              "      <th>...</th>\n",
              "      <td>...</td>\n",
              "    </tr>\n",
              "    <tr>\n",
              "      <th>2015</th>\n",
              "      <td>17.589</td>\n",
              "    </tr>\n",
              "    <tr>\n",
              "      <th>2015</th>\n",
              "      <td>17.049</td>\n",
              "    </tr>\n",
              "    <tr>\n",
              "      <th>2015</th>\n",
              "      <td>16.290</td>\n",
              "    </tr>\n",
              "    <tr>\n",
              "      <th>2015</th>\n",
              "      <td>15.252</td>\n",
              "    </tr>\n",
              "    <tr>\n",
              "      <th>2015</th>\n",
              "      <td>14.774</td>\n",
              "    </tr>\n",
              "  </tbody>\n",
              "</table>\n",
              "<p>1992 rows × 1 columns</p>\n",
              "</div><br><label><b>dtype:</b> float64</label>"
            ]
          },
          "metadata": {},
          "execution_count": 169
        }
      ]
    },
    {
      "cell_type": "code",
      "source": [
        "from sklearn.model_selection import train_test_split,GridSearchCV\n",
        "from sklearn.impute import SimpleImputer,KNNImputer\n",
        "from sklearn.pipeline import Pipeline\n",
        "from sklearn.linear_model import LinearRegression,SGDRegressor\n",
        "from sklearn.ensemble import RandomForestRegressor\n",
        "from sklearn.tree import DecisionTreeRegressor\n",
        "from sklearn.metrics import mean_squared_error,r2_score\n",
        "X_train,X_test,y_train,y_test = train_test_split(global_data.drop(columns=[\"LandAndOceanAverageTemperature\"]),global_data[\"LandAndOceanAverageTemperature\"],test_size=0.2,random_state=42)\n",
        "\n",
        "# Creating Pipeline\n",
        "pipe = Pipeline([\n",
        "    (\"imputing\",SimpleImputer()),\n",
        "    (\"model\",LinearRegression())\n",
        "])\n",
        "\n",
        "# Parameters for GridSearchCv\n",
        "param_grid_pipe = [\n",
        "    {\n",
        "        'imputing': [SimpleImputer()],\n",
        "        'imputing__strategy': ['mean', 'median']\n",
        "    },\n",
        "    {\n",
        "        'imputing': [KNNImputer()],\n",
        "        'imputing__n_neighbors': [3, 5, 7]\n",
        "    },\n",
        "    {\n",
        "        'model': [LinearRegression()],\n",
        "    },\n",
        "    {\n",
        "        'model': [SGDRegressor()],\n",
        "        'model__alpha': [0.0001, 0.001, 0.01],\n",
        "    },\n",
        "    {\n",
        "        'model': [DecisionTreeRegressor()],\n",
        "        'model__max_depth': [None, 10, 20],\n",
        "    },\n",
        "    {\n",
        "        'model': [RandomForestRegressor()],\n",
        "        'model__n_estimators': [100, 200, 300],\n",
        "    }\n",
        "]\n",
        "\n",
        "# Applying GridSearchCV\n",
        "grid_pipe = GridSearchCV(pipe,param_grid_pipe,cv=5,verbose=2,n_jobs=-1,scoring=\"r2\")\n",
        "grid_pipe.fit(X_train,y_train)\n",
        "\n",
        "print(grid_pipe.best_params_)\n",
        "print(grid_pipe.best_score_)\n"
      ],
      "metadata": {
        "colab": {
          "base_uri": "https://localhost:8080/"
        },
        "id": "lBOSC6xKEfOc",
        "outputId": "1810547f-c22a-4ba0-93b4-54811d002583"
      },
      "execution_count": 170,
      "outputs": [
        {
          "output_type": "stream",
          "name": "stdout",
          "text": [
            "Fitting 5 folds for each of 15 candidates, totalling 75 fits\n",
            "{'model': RandomForestRegressor(), 'model__n_estimators': 300}\n",
            "0.9907863460309523\n"
          ]
        }
      ]
    },
    {
      "cell_type": "code",
      "source": [
        "best_model = grid_pipe.best_estimator_"
      ],
      "metadata": {
        "id": "T2-3772bMiw7"
      },
      "execution_count": 171,
      "outputs": []
    },
    {
      "cell_type": "code",
      "source": [
        "best_model.fit(X_train,y_train)\n",
        "y_pred = best_model.predict(X_test)\n",
        "y_pred_train = best_model.predict(X_train)"
      ],
      "metadata": {
        "id": "t-aJOmWVMocx"
      },
      "execution_count": 172,
      "outputs": []
    },
    {
      "cell_type": "code",
      "source": [
        "print(f\"Test r2 score : {np.round(r2_score(y_test,y_pred),3)}\")\n",
        "print(f\"Test mse : {np.round(mean_squared_error(y_test,y_pred),3)}\")\n",
        "print(f\"Test rmse {np.round(np.sqrt(mean_squared_error(y_test,y_pred)),3)}\")\n",
        "print(f\"Train r2 score : {np.round(r2_score(y_train,y_pred_train),3)}\")\n",
        "print(f\"Train mse : {np.round(mean_squared_error(y_train,y_pred_train),3)}\")\n",
        "print(f\"Train rmse {np.round(np.sqrt(mean_squared_error(y_train,y_pred_train)),3)}\")"
      ],
      "metadata": {
        "colab": {
          "base_uri": "https://localhost:8080/"
        },
        "id": "WwX9UMztMwzr",
        "outputId": "73bb2cfd-dfce-4ccf-d40d-010449f5ebb9"
      },
      "execution_count": 173,
      "outputs": [
        {
          "output_type": "stream",
          "name": "stdout",
          "text": [
            "Test r2 score : 0.99\n",
            "Test mse : 0.015\n",
            "Test rmse 0.123\n",
            "Train r2 score : 0.999\n",
            "Train mse : 0.002\n",
            "Train rmse 0.044\n"
          ]
        }
      ]
    },
    {
      "cell_type": "code",
      "source": [],
      "metadata": {
        "id": "NLvXGTxQNYBh"
      },
      "execution_count": null,
      "outputs": []
    }
  ]
}